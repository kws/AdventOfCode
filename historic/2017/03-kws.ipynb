{
 "cells": [
  {
   "cell_type": "markdown",
   "metadata": {},
   "source": [
    "# December 3rd 2017"
   ]
  },
  {
   "cell_type": "code",
   "execution_count": null,
   "metadata": {},
   "outputs": [],
   "source": [
    "import math\n",
    "import numpy as np"
   ]
  },
  {
   "cell_type": "code",
   "execution_count": null,
   "metadata": {},
   "outputs": [],
   "source": [
    "value = 1024\n",
    "\n",
    "dimensions = math.ceil(math.sqrt(value))\n",
    "if dimensions % 2 == 0:\n",
    "    dimensions += 1\n",
    "print(\"For value {0} we have a square {1}x{1}\".format(value,dimensions))\n",
    "\n",
    "distance = (dimensions*dimensions)-value\n",
    "quadrant = int(distance/(dimensions-1))\n",
    "print(\"Our value is {} steps clockwise from the BRH corner. That places it in the {} quadrant\".format(distance, quadrant))\n",
    "\n",
    "x=0\n",
    "y=0\n",
    "if quadrant==0:\n",
    "    x=distance\n",
    "elif quadrant==1:\n",
    "    x=(dimensions-1)\n",
    "    y=distance-(dimensions-1)\n",
    "elif quadrant==2:\n",
    "    x= value -((dimensions-2)**2)-dimensions+1\n",
    "    y=(dimensions-1)\n",
    "elif quadrant==3:\n",
    "    y=value-((dimensions-2)**2)\n",
    "    \n",
    "print(\"The number {} is {} left and {} up from the BRH corner.\".format(value, x, y))\n",
    "\n",
    "xc = x - (dimensions-1)/2\n",
    "yc = y - (dimensions-1)/2\n",
    "\n",
    "print(\"The number {} is {} left and {} up from the centre.\".format(value, int(xc), int(yc)))\n",
    "print(\"For a total of {} steps from the centre\".format(int(abs(xc) + abs(yc))))"
   ]
  }
 ],
 "metadata": {
  "kernelspec": {
   "display_name": "Python 3",
   "language": "python",
   "name": "python3"
  },
  "language_info": {
   "codemirror_mode": {
    "name": "ipython",
    "version": 3
   },
   "file_extension": ".py",
   "mimetype": "text/x-python",
   "name": "python",
   "nbconvert_exporter": "python",
   "pygments_lexer": "ipython3",
   "version": "3.7.1"
  }
 },
 "nbformat": 4,
 "nbformat_minor": 2
}
